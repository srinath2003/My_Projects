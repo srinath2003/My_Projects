{
 "cells": [
  {
   "cell_type": "code",
   "execution_count": 6,
   "id": "45aa9809",
   "metadata": {},
   "outputs": [
    {
     "name": "stdout",
     "output_type": "stream",
     "text": [
      "Model: \"sequential\"\n",
      "_________________________________________________________________\n",
      " Layer (type)                Output Shape              Param #   \n",
      "=================================================================\n",
      " embedding (Embedding)       (None, 39, 100)           823800    \n",
      "                                                                 \n",
      " bidirectional (Bidirection  (None, 200)               160800    \n",
      " al)                                                             \n",
      "                                                                 \n",
      " dense (Dense)               (None, 8238)              1655838   \n",
      "                                                                 \n",
      "=================================================================\n",
      "Total params: 2640438 (10.07 MB)\n",
      "Trainable params: 2640438 (10.07 MB)\n",
      "Non-trainable params: 0 (0.00 Byte)\n",
      "_________________________________________________________________\n"
     ]
    }
   ],
   "source": []
  },
  {
   "cell_type": "code",
   "execution_count": 7,
   "id": "4dc4ecf2",
   "metadata": {},
   "outputs": [
    {
     "name": "stdout",
     "output_type": "stream",
     "text": [
      " Volume in drive C is Windows\n",
      " Volume Serial Number is C461-AC4E\n",
      "\n",
      " Directory of C:\\Users\\srina\\OneDrive\\Desktop\\github_local\\My_Projects\\Next_word_predict_aws_deploy\n",
      "\n",
      "08/14/2024  10:41 AM    <DIR>          .\n",
      "08/13/2024  02:39 PM    <DIR>          ..\n",
      "08/14/2024  10:39 AM    <DIR>          .ipynb_checkpoints\n",
      "08/13/2024  02:38 PM    <DIR>          data\n",
      "08/13/2024  03:02 PM           867,116 main_lstm.ipynb\n",
      "08/13/2024  06:03 PM        10,583,016 new_word_weights.h5\n",
      "08/14/2024  09:43 AM            82,969 next-word-generation.ipynb\n",
      "08/13/2024  06:03 PM        31,735,648 next_word_predict.h5\n",
      "08/14/2024  10:41 AM             2,990 Untitled.ipynb\n",
      "               5 File(s)     43,271,739 bytes\n",
      "               4 Dir(s)  49,598,853,120 bytes free\n"
     ]
    }
   ],
   "source": [
    "!dir"
   ]
  },
  {
   "cell_type": "code",
   "execution_count": 9,
   "id": "0871bf46",
   "metadata": {},
   "outputs": [
    {
     "ename": "NameError",
     "evalue": "name 'tokenizer' is not defined",
     "output_type": "error",
     "traceback": [
      "\u001b[1;31m---------------------------------------------------------------------------\u001b[0m",
      "\u001b[1;31mNameError\u001b[0m                                 Traceback (most recent call last)",
      "Cell \u001b[1;32mIn[9], line 1\u001b[0m\n\u001b[1;32m----> 1\u001b[0m dic \u001b[38;5;241m=\u001b[39m \u001b[43mtokenizer\u001b[49m\u001b[38;5;241m.\u001b[39mword_index\n\u001b[0;32m      2\u001b[0m \u001b[38;5;28;01mdef\u001b[39;00m \u001b[38;5;21mgenerate\u001b[39m(text,no_of_words):\n\u001b[0;32m      3\u001b[0m     \u001b[38;5;28;01mfor\u001b[39;00m i \u001b[38;5;129;01min\u001b[39;00m \u001b[38;5;28mrange\u001b[39m(no_of_words):\n",
      "\u001b[1;31mNameError\u001b[0m: name 'tokenizer' is not defined"
     ]
    }
   ],
   "source": [
    "import tensorflow as tf\n",
    "from tensorflow.keras.preprocessing.text import Tokenizer\n",
    "from tensorflow.keras.preprocessing.sequence import pad_sequences\n",
    "import numpy as np\n",
    "\n",
    "# Example text data used during training\n",
    "text_data = [\n",
    "    \"here is some sample text\",\n",
    "    \"another piece of text data\",\n",
    "    \"more text to train the tokenizer\"\n",
    "    # Add all the data used during training here\n",
    "]\n",
    "\n",
    "# Rebuild the tokenizer\n",
    "tokenizer = Tokenizer()\n",
    "tokenizer.fit_on_texts(text_data)\n",
    "\n",
    "# Save the tokenizer for future use\n",
    "import pickle\n",
    "with open('tokenizer.pkl', 'wb') as handle:\n",
    "    pickle.dump(tokenizer, handle, protocol=pickle.HIGHEST_PROTOCOL)\n",
    "\n",
    "# Load the model\n",
    "model = tf.keras.models.load_model('next_word_predict.h5')\n",
    "\n",
    "# Set max_sequence_len (use the value you had during training)\n",
    "max_sequence_len = 15  # Replace with your actual max sequence length\n",
    "\n",
    "# Get the word index from the tokenizer\n",
    "dic = tokenizer.word_index\n",
    "\n",
    "# Define the function to generate text\n",
    "def generate(text, no_of_words):\n",
    "    for i in range(no_of_words):\n",
    "        tokenized_text = tokenizer.texts_to_sequences([text])[0]\n",
    "        padded_seq = pad_sequences([tokenized_text], padding=\"pre\", maxlen=max_sequence_len-1)\n",
    "        index = np.argmax(model.predict(padded_seq), axis=-1)[0]\n",
    "        for key, value in dic.items():\n",
    "            if index + 1 == value:\n",
    "                text += \" \" + key\n",
    "                break  # Once the word is found, exit the loop\n",
    "        print(text)\n",
    "    return text\n",
    "\n",
    "# Example usage\n",
    "text1 = \"here is\"\n",
    "generate(text1, 2)\n"
   ]
  },
  {
   "cell_type": "code",
   "execution_count": null,
   "id": "05eb94e9",
   "metadata": {},
   "outputs": [],
   "source": []
  }
 ],
 "metadata": {
  "kernelspec": {
   "display_name": "Python 3 (ipykernel)",
   "language": "python",
   "name": "python3"
  },
  "language_info": {
   "codemirror_mode": {
    "name": "ipython",
    "version": 3
   },
   "file_extension": ".py",
   "mimetype": "text/x-python",
   "name": "python",
   "nbconvert_exporter": "python",
   "pygments_lexer": "ipython3",
   "version": "3.8.0"
  }
 },
 "nbformat": 4,
 "nbformat_minor": 5
}
