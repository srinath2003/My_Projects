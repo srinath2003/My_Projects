{
 "cells": [
  {
   "cell_type": "code",
   "execution_count": 2,
   "id": "8a2aedc2",
   "metadata": {
    "_cell_guid": "b1076dfc-b9ad-4769-8c92-a6c4dae69d19",
    "_uuid": "8f2839f25d086af736a60e9eeb907d3b93b6e0e5",
    "execution": {
     "iopub.execute_input": "2024-02-29T04:36:27.694147Z",
     "iopub.status.busy": "2024-02-29T04:36:27.693801Z",
     "iopub.status.idle": "2024-02-29T04:36:45.357119Z",
     "shell.execute_reply": "2024-02-29T04:36:45.356274Z"
    },
    "papermill": {
     "duration": 17.672605,
     "end_time": "2024-02-29T04:36:45.359392",
     "exception": false,
     "start_time": "2024-02-29T04:36:27.686787",
     "status": "completed"
    },
    "tags": []
   },
   "outputs": [],
   "source": [
    "%%capture\n",
    "# This Python 3 environment comes with many helpful analytics libraries installed\n",
    "# It is defined by the kaggle/python Docker image: https://github.com/kaggle/docker-python\n",
    "# For example, here's several helpful packages to load\n",
    "\n",
    "import numpy as np # linear algebra\n",
    "import pandas as pd # data processing, CSV file I/O (e.g. pd.read_csv)\n",
    "\n",
    "# Input data files are available in the read-only \"../input/\" directory\n",
    "# For example, running this (by clicking run or pressing Shift+Enter) will list all files under the input directory\n",
    "import pandas as pd\n",
    "import os\n",
    "import numpy as np\n",
    "\n",
    "import tensorflow as tf\n",
    "from tensorflow.keras.preprocessing.sequence import pad_sequences\n",
    "from tensorflow.keras.layers import Embedding, LSTM, Dense, Bidirectional\n",
    "from tensorflow.keras.preprocessing.text import Tokenizer\n",
    "from tensorflow.keras.models import Sequential\n",
    "from tensorflow.keras.optimizers import Adam\n",
    "\n",
    "\n",
    "# You can write up to 20GB to the current directory (/kaggle/working/) that gets preserved as output when you create a version using \"Save & Run All\" \n",
    "# You can also write temporary files to /kaggle/temp/, but they won't be saved outside of the current session"
   ]
  },
  {
   "cell_type": "code",
   "execution_count": 3,
   "id": "8a0ad0fe",
   "metadata": {},
   "outputs": [
    {
     "name": "stdout",
     "output_type": "stream",
     "text": [
      "TensorFlow version: 2.13.0\n"
     ]
    }
   ],
   "source": [
    "import tensorflow as tf\n",
    "print(\"TensorFlow version:\", tf.__version__)\n"
   ]
  },
  {
   "cell_type": "code",
   "execution_count": 4,
   "id": "f3040c5d",
   "metadata": {},
   "outputs": [
    {
     "name": "stdout",
     "output_type": "stream",
     "text": [
      "Python 3.12.3\n"
     ]
    }
   ],
   "source": [
    "!python --version\n"
   ]
  },
  {
   "cell_type": "code",
   "execution_count": 5,
   "id": "7b7b2898",
   "metadata": {
    "execution": {
     "iopub.execute_input": "2024-02-29T04:36:45.371550Z",
     "iopub.status.busy": "2024-02-29T04:36:45.370942Z",
     "iopub.status.idle": "2024-02-29T04:36:45.455304Z",
     "shell.execute_reply": "2024-02-29T04:36:45.454350Z"
    },
    "papermill": {
     "duration": 0.092369,
     "end_time": "2024-02-29T04:36:45.457329",
     "exception": false,
     "start_time": "2024-02-29T04:36:45.364960",
     "status": "completed"
    },
    "tags": []
   },
   "outputs": [
    {
     "data": {
      "text/html": [
       "<div>\n",
       "<style scoped>\n",
       "    .dataframe tbody tr th:only-of-type {\n",
       "        vertical-align: middle;\n",
       "    }\n",
       "\n",
       "    .dataframe tbody tr th {\n",
       "        vertical-align: top;\n",
       "    }\n",
       "\n",
       "    .dataframe thead th {\n",
       "        text-align: right;\n",
       "    }\n",
       "</style>\n",
       "<table border=\"1\" class=\"dataframe\">\n",
       "  <thead>\n",
       "    <tr style=\"text-align: right;\">\n",
       "      <th></th>\n",
       "      <th>id</th>\n",
       "      <th>url</th>\n",
       "      <th>title</th>\n",
       "      <th>subtitle</th>\n",
       "      <th>image</th>\n",
       "      <th>claps</th>\n",
       "      <th>responses</th>\n",
       "      <th>reading_time</th>\n",
       "      <th>publication</th>\n",
       "      <th>date</th>\n",
       "    </tr>\n",
       "  </thead>\n",
       "  <tbody>\n",
       "    <tr>\n",
       "      <th>0</th>\n",
       "      <td>1</td>\n",
       "      <td>https://towardsdatascience.com/a-beginners-gui...</td>\n",
       "      <td>A Beginner’s Guide to Word Embedding with Gens...</td>\n",
       "      <td>NaN</td>\n",
       "      <td>1.png</td>\n",
       "      <td>850</td>\n",
       "      <td>8</td>\n",
       "      <td>8</td>\n",
       "      <td>Towards Data Science</td>\n",
       "      <td>2019-05-30</td>\n",
       "    </tr>\n",
       "    <tr>\n",
       "      <th>1</th>\n",
       "      <td>2</td>\n",
       "      <td>https://towardsdatascience.com/hands-on-graph-...</td>\n",
       "      <td>Hands-on Graph Neural Networks with PyTorch &amp; ...</td>\n",
       "      <td>NaN</td>\n",
       "      <td>2.png</td>\n",
       "      <td>1100</td>\n",
       "      <td>11</td>\n",
       "      <td>9</td>\n",
       "      <td>Towards Data Science</td>\n",
       "      <td>2019-05-30</td>\n",
       "    </tr>\n",
       "    <tr>\n",
       "      <th>2</th>\n",
       "      <td>3</td>\n",
       "      <td>https://towardsdatascience.com/how-to-use-ggpl...</td>\n",
       "      <td>How to Use ggplot2 in Python</td>\n",
       "      <td>A Grammar of Graphics for Python</td>\n",
       "      <td>3.png</td>\n",
       "      <td>767</td>\n",
       "      <td>1</td>\n",
       "      <td>5</td>\n",
       "      <td>Towards Data Science</td>\n",
       "      <td>2019-05-30</td>\n",
       "    </tr>\n",
       "    <tr>\n",
       "      <th>3</th>\n",
       "      <td>4</td>\n",
       "      <td>https://towardsdatascience.com/databricks-how-...</td>\n",
       "      <td>Databricks: How to Save Files in CSV on Your L...</td>\n",
       "      <td>When I work on Python projects dealing…</td>\n",
       "      <td>4.jpeg</td>\n",
       "      <td>354</td>\n",
       "      <td>0</td>\n",
       "      <td>4</td>\n",
       "      <td>Towards Data Science</td>\n",
       "      <td>2019-05-30</td>\n",
       "    </tr>\n",
       "    <tr>\n",
       "      <th>4</th>\n",
       "      <td>5</td>\n",
       "      <td>https://towardsdatascience.com/a-step-by-step-...</td>\n",
       "      <td>A Step-by-Step Implementation of Gradient Desc...</td>\n",
       "      <td>One example of building neural…</td>\n",
       "      <td>5.jpeg</td>\n",
       "      <td>211</td>\n",
       "      <td>3</td>\n",
       "      <td>4</td>\n",
       "      <td>Towards Data Science</td>\n",
       "      <td>2019-05-30</td>\n",
       "    </tr>\n",
       "  </tbody>\n",
       "</table>\n",
       "</div>"
      ],
      "text/plain": [
       "   id                                                url  \\\n",
       "0   1  https://towardsdatascience.com/a-beginners-gui...   \n",
       "1   2  https://towardsdatascience.com/hands-on-graph-...   \n",
       "2   3  https://towardsdatascience.com/how-to-use-ggpl...   \n",
       "3   4  https://towardsdatascience.com/databricks-how-...   \n",
       "4   5  https://towardsdatascience.com/a-step-by-step-...   \n",
       "\n",
       "                                               title  \\\n",
       "0  A Beginner’s Guide to Word Embedding with Gens...   \n",
       "1  Hands-on Graph Neural Networks with PyTorch & ...   \n",
       "2                       How to Use ggplot2 in Python   \n",
       "3  Databricks: How to Save Files in CSV on Your L...   \n",
       "4  A Step-by-Step Implementation of Gradient Desc...   \n",
       "\n",
       "                                  subtitle   image  claps responses  \\\n",
       "0                                      NaN   1.png    850         8   \n",
       "1                                      NaN   2.png   1100        11   \n",
       "2         A Grammar of Graphics for Python   3.png    767         1   \n",
       "3  When I work on Python projects dealing…  4.jpeg    354         0   \n",
       "4          One example of building neural…  5.jpeg    211         3   \n",
       "\n",
       "   reading_time           publication        date  \n",
       "0             8  Towards Data Science  2019-05-30  \n",
       "1             9  Towards Data Science  2019-05-30  \n",
       "2             5  Towards Data Science  2019-05-30  \n",
       "3             4  Towards Data Science  2019-05-30  \n",
       "4             4  Towards Data Science  2019-05-30  "
      ]
     },
     "execution_count": 5,
     "metadata": {},
     "output_type": "execute_result"
    }
   ],
   "source": [
    "data = pd.read_csv('data/medium_data.csv')\n",
    "data.head()"
   ]
  },
  {
   "cell_type": "code",
   "execution_count": 6,
   "id": "667e6c2e",
   "metadata": {
    "execution": {
     "iopub.execute_input": "2024-02-29T04:36:45.470211Z",
     "iopub.status.busy": "2024-02-29T04:36:45.469918Z",
     "iopub.status.idle": "2024-02-29T04:36:45.474676Z",
     "shell.execute_reply": "2024-02-29T04:36:45.473784Z"
    },
    "papermill": {
     "duration": 0.013384,
     "end_time": "2024-02-29T04:36:45.476749",
     "exception": false,
     "start_time": "2024-02-29T04:36:45.463365",
     "status": "completed"
    },
    "tags": []
   },
   "outputs": [
    {
     "name": "stdout",
     "output_type": "stream",
     "text": [
      "Number of records:  6508\n",
      "Number of fields:  10\n"
     ]
    }
   ],
   "source": [
    "print(\"Number of records: \", data.shape[0])\n",
    "print(\"Number of fields: \", data.shape[1])"
   ]
  },
  {
   "cell_type": "code",
   "execution_count": 7,
   "id": "ee8764f8",
   "metadata": {
    "execution": {
     "iopub.execute_input": "2024-02-29T04:36:45.488496Z",
     "iopub.status.busy": "2024-02-29T04:36:45.488229Z",
     "iopub.status.idle": "2024-02-29T04:36:45.496094Z",
     "shell.execute_reply": "2024-02-29T04:36:45.495296Z"
    },
    "papermill": {
     "duration": 0.015791,
     "end_time": "2024-02-29T04:36:45.497917",
     "exception": false,
     "start_time": "2024-02-29T04:36:45.482126",
     "status": "completed"
    },
    "tags": []
   },
   "outputs": [
    {
     "data": {
      "text/plain": [
       "0       A Beginner’s Guide to Word Embedding with Gens...\n",
       "1       Hands-on Graph Neural Networks with PyTorch & ...\n",
       "2                            How to Use ggplot2 in Python\n",
       "3       Databricks: How to Save Files in CSV on Your L...\n",
       "4       A Step-by-Step Implementation of Gradient Desc...\n",
       "                              ...                        \n",
       "6503    “We” vs “I” — How Should You Talk About Yourse...\n",
       "6504                     How Donald Trump Markets Himself\n",
       "6505        Content and Marketing Beyond Mass Consumption\n",
       "6506    5 Questions All Copywriters Should Ask Clients...\n",
       "6507               How To Write a Good Business Blog Post\n",
       "Name: title, Length: 6508, dtype: object"
      ]
     },
     "execution_count": 7,
     "metadata": {},
     "output_type": "execute_result"
    }
   ],
   "source": [
    "data['title']"
   ]
  },
  {
   "cell_type": "code",
   "execution_count": 8,
   "id": "7eedbdcf",
   "metadata": {
    "execution": {
     "iopub.execute_input": "2024-02-29T04:36:45.510318Z",
     "iopub.status.busy": "2024-02-29T04:36:45.510018Z",
     "iopub.status.idle": "2024-02-29T04:36:45.520822Z",
     "shell.execute_reply": "2024-02-29T04:36:45.520058Z"
    },
    "papermill": {
     "duration": 0.018944,
     "end_time": "2024-02-29T04:36:45.522714",
     "exception": false,
     "start_time": "2024-02-29T04:36:45.503770",
     "status": "completed"
    },
    "tags": []
   },
   "outputs": [],
   "source": [
    "data['title'] = data['title'].apply(lambda x: x.replace(u'\\xa0',u' '))\n",
    "data['title'] = data['title'].apply(lambda x: x.replace('\\u200a',' '))"
   ]
  },
  {
   "cell_type": "code",
   "execution_count": 9,
   "id": "be5c06fd",
   "metadata": {
    "execution": {
     "iopub.execute_input": "2024-02-29T04:36:45.534815Z",
     "iopub.status.busy": "2024-02-29T04:36:45.534579Z",
     "iopub.status.idle": "2024-02-29T04:36:45.661232Z",
     "shell.execute_reply": "2024-02-29T04:36:45.660174Z"
    },
    "papermill": {
     "duration": 0.134958,
     "end_time": "2024-02-29T04:36:45.663195",
     "exception": false,
     "start_time": "2024-02-29T04:36:45.528237",
     "status": "completed"
    },
    "tags": []
   },
   "outputs": [
    {
     "name": "stdout",
     "output_type": "stream",
     "text": [
      "Total number of words:  8238\n",
      "Word: ID\n",
      "------------\n",
      "<oov>:  1\n",
      "Strong:  4\n",
      "And:  8\n",
      "Consumption:  8237\n"
     ]
    }
   ],
   "source": [
    "tokenizer = Tokenizer(oov_token='<oov>') # For those words which are not found in word_index\n",
    "tokenizer.fit_on_texts(data['title'])\n",
    "total_words = len(tokenizer.word_index) + 1\n",
    "\n",
    "print(\"Total number of words: \", total_words)\n",
    "print(\"Word: ID\")\n",
    "print(\"------------\")\n",
    "print(\"<oov>: \", tokenizer.word_index['<oov>'])\n",
    "print(\"Strong: \", tokenizer.word_index['strong'])\n",
    "print(\"And: \", tokenizer.word_index['and'])\n",
    "print(\"Consumption: \", tokenizer.word_index['consumption'])"
   ]
  },
  {
   "cell_type": "code",
   "execution_count": 10,
   "id": "6e227390",
   "metadata": {
    "execution": {
     "iopub.execute_input": "2024-02-29T04:36:45.676231Z",
     "iopub.status.busy": "2024-02-29T04:36:45.675929Z",
     "iopub.status.idle": "2024-02-29T04:36:45.985170Z",
     "shell.execute_reply": "2024-02-29T04:36:45.984294Z"
    },
    "papermill": {
     "duration": 0.31834,
     "end_time": "2024-02-29T04:36:45.987483",
     "exception": false,
     "start_time": "2024-02-29T04:36:45.669143",
     "status": "completed"
    },
    "tags": []
   },
   "outputs": [
    {
     "name": "stdout",
     "output_type": "stream",
     "text": [
      "Total input sequences:  48461\n"
     ]
    }
   ],
   "source": [
    "input_sequences = []\n",
    "for line in data['title']:\n",
    "    token_list = tokenizer.texts_to_sequences([line])[0]\n",
    "    #print(token_list)\n",
    "    \n",
    "    for i in range(1, len(token_list)):\n",
    "        n_gram_sequence = token_list[:i+1]\n",
    "        input_sequences.append(n_gram_sequence)\n",
    "\n",
    "# print(input_sequences)\n",
    "print(\"Total input sequences: \", len(input_sequences))"
   ]
  },
  {
   "cell_type": "code",
   "execution_count": 11,
   "id": "5e2e59d5",
   "metadata": {
    "execution": {
     "iopub.execute_input": "2024-02-29T04:36:46.000749Z",
     "iopub.status.busy": "2024-02-29T04:36:46.000447Z",
     "iopub.status.idle": "2024-02-29T04:36:46.200428Z",
     "shell.execute_reply": "2024-02-29T04:36:46.199555Z"
    },
    "papermill": {
     "duration": 0.20874,
     "end_time": "2024-02-29T04:36:46.202455",
     "exception": false,
     "start_time": "2024-02-29T04:36:45.993715",
     "status": "completed"
    },
    "tags": []
   },
   "outputs": [
    {
     "data": {
      "text/plain": [
       "array([  0,   0,   0,   0,   0,   0,   0,   0,   0,   0,   0,   0,   0,\n",
       "         0,   0,   0,   0,   0,   0,   0,   0,   0,   0,   0,   0,   0,\n",
       "         0,   0,   0,   0,   0,   0,   0,   0,   0,   0,   0,   5, 676,\n",
       "        68])"
      ]
     },
     "execution_count": 11,
     "metadata": {},
     "output_type": "execute_result"
    }
   ],
   "source": [
    "# pad sequences \n",
    "max_sequence_len = max([len(x) for x in input_sequences])\n",
    "input_sequences = np.array(pad_sequences(input_sequences, maxlen=max_sequence_len, padding='pre'))\n",
    "input_sequences[1]"
   ]
  },
  {
   "cell_type": "code",
   "execution_count": 12,
   "id": "adfd529a",
   "metadata": {
    "execution": {
     "iopub.execute_input": "2024-02-29T04:36:46.215953Z",
     "iopub.status.busy": "2024-02-29T04:36:46.215659Z",
     "iopub.status.idle": "2024-02-29T04:36:46.333356Z",
     "shell.execute_reply": "2024-02-29T04:36:46.332422Z"
    },
    "papermill": {
     "duration": 0.127151,
     "end_time": "2024-02-29T04:36:46.335822",
     "exception": false,
     "start_time": "2024-02-29T04:36:46.208671",
     "status": "completed"
    },
    "tags": []
   },
   "outputs": [
    {
     "name": "stdout",
     "output_type": "stream",
     "text": [
      "[   0    0    0    0    0    0    0    0    0    0    0    0    0    0\n",
      "    0    0    0    0    0    0    0    0    0    0    0    0    0    0\n",
      "    0    0    0    0    0    5  676   68    2  452 1518]\n",
      "14\n",
      "[0. 0. 0. ... 0. 0. 0.]\n"
     ]
    }
   ],
   "source": [
    "x = input_sequences[:,:-1]\n",
    "lables = input_sequences[:,-1]\n",
    "y = tf.keras.utils.to_categorical(lables, num_classes=total_words)\n",
    "\n",
    "\n",
    "print(x[5])\n",
    "print(lables[5])\n",
    "print(y[5])"
   ]
  },
  {
   "cell_type": "code",
   "execution_count": 10,
   "id": "9342f770",
   "metadata": {
    "execution": {
     "iopub.execute_input": "2024-02-29T04:36:46.349584Z",
     "iopub.status.busy": "2024-02-29T04:36:46.349285Z",
     "iopub.status.idle": "2024-02-29T04:36:48.025289Z",
     "shell.execute_reply": "2024-02-29T04:36:48.024289Z"
    },
    "papermill": {
     "duration": 1.689243,
     "end_time": "2024-02-29T04:36:48.031428",
     "exception": false,
     "start_time": "2024-02-29T04:36:46.342185",
     "status": "completed"
    },
    "tags": []
   },
   "outputs": [
    {
     "name": "stderr",
     "output_type": "stream",
     "text": [
      "WARNING:absl:`lr` is deprecated in Keras optimizer, please use `learning_rate` or use the legacy optimizer, e.g.,tf.keras.optimizers.legacy.Adam.\n"
     ]
    },
    {
     "name": "stdout",
     "output_type": "stream",
     "text": [
      "Model: \"sequential\"\n",
      "_________________________________________________________________\n",
      " Layer (type)                Output Shape              Param #   \n",
      "=================================================================\n",
      " embedding (Embedding)       (None, 39, 100)           823800    \n",
      "                                                                 \n",
      " bidirectional (Bidirection  (None, 200)               160800    \n",
      " al)                                                             \n",
      "                                                                 \n",
      " dense (Dense)               (None, 8238)              1655838   \n",
      "                                                                 \n",
      "=================================================================\n",
      "Total params: 2640438 (10.07 MB)\n",
      "Trainable params: 2640438 (10.07 MB)\n",
      "Non-trainable params: 0 (0.00 Byte)\n",
      "_________________________________________________________________\n",
      "None\n"
     ]
    }
   ],
   "source": [
    "# model = Sequential()\n",
    "# model.add(Embedding(total_words, 100, input_length=max_sequence_len-1))\n",
    "# model.add(Bidirectional(LSTM(100)))\n",
    "# model.add(Dense(total_words, activation='softmax'))\n",
    "# adam = Adam(lr=0.01)\n",
    "# model.compile(loss='categorical_crossentropy', optimizer=adam, metrics=['accuracy'])\n",
    "# print(model.summary())\n"
   ]
  },
  {
   "cell_type": "code",
   "execution_count": 11,
   "id": "a8999981",
   "metadata": {
    "execution": {
     "iopub.execute_input": "2024-02-29T04:36:48.048641Z",
     "iopub.status.busy": "2024-02-29T04:36:48.048357Z",
     "iopub.status.idle": "2024-02-29T04:47:16.892807Z",
     "shell.execute_reply": "2024-02-29T04:47:16.891856Z"
    },
    "papermill": {
     "duration": 628.855148,
     "end_time": "2024-02-29T04:47:16.895227",
     "exception": false,
     "start_time": "2024-02-29T04:36:48.040079",
     "status": "completed"
    },
    "tags": []
   },
   "outputs": [
    {
     "name": "stdout",
     "output_type": "stream",
     "text": [
      "Epoch 1/70\n",
      "1515/1515 [==============================] - 84s 54ms/step - loss: 7.0531 - accuracy: 0.0755\n",
      "Epoch 2/70\n",
      "1515/1515 [==============================] - 71s 47ms/step - loss: 6.2797 - accuracy: 0.1334\n",
      "Epoch 3/70\n",
      "1515/1515 [==============================] - 73s 48ms/step - loss: 5.8027 - accuracy: 0.1629\n",
      "Epoch 4/70\n",
      "1515/1515 [==============================] - 73s 48ms/step - loss: 5.3930 - accuracy: 0.1860\n",
      "Epoch 5/70\n",
      "1515/1515 [==============================] - 72s 47ms/step - loss: 5.0216 - accuracy: 0.2048\n",
      "Epoch 6/70\n",
      "1515/1515 [==============================] - 73s 48ms/step - loss: 4.6810 - accuracy: 0.2277\n",
      "Epoch 7/70\n",
      "1515/1515 [==============================] - 73s 48ms/step - loss: 4.3574 - accuracy: 0.2507\n",
      "Epoch 8/70\n",
      "1515/1515 [==============================] - 73s 48ms/step - loss: 4.0482 - accuracy: 0.2797\n",
      "Epoch 9/70\n",
      "1515/1515 [==============================] - 72s 47ms/step - loss: 3.7523 - accuracy: 0.3133\n",
      "Epoch 10/70\n",
      "1515/1515 [==============================] - 74s 49ms/step - loss: 3.4686 - accuracy: 0.3539\n",
      "Epoch 11/70\n",
      "1515/1515 [==============================] - 75s 49ms/step - loss: 3.1984 - accuracy: 0.3976\n",
      "Epoch 12/70\n",
      "1515/1515 [==============================] - 73s 48ms/step - loss: 2.9504 - accuracy: 0.4378\n",
      "Epoch 13/70\n",
      "1515/1515 [==============================] - 75s 49ms/step - loss: 2.7262 - accuracy: 0.4756\n",
      "Epoch 14/70\n",
      "1515/1515 [==============================] - 75s 49ms/step - loss: 2.5267 - accuracy: 0.5090\n",
      "Epoch 15/70\n",
      "1515/1515 [==============================] - 75s 49ms/step - loss: 2.3472 - accuracy: 0.5418\n",
      "Epoch 16/70\n",
      "1515/1515 [==============================] - 75s 49ms/step - loss: 2.1859 - accuracy: 0.5716\n",
      "Epoch 17/70\n",
      "1515/1515 [==============================] - 75s 49ms/step - loss: 2.0395 - accuracy: 0.5965\n",
      "Epoch 18/70\n",
      "1515/1515 [==============================] - 74s 49ms/step - loss: 1.9076 - accuracy: 0.6212\n",
      "Epoch 19/70\n",
      "1515/1515 [==============================] - 73s 48ms/step - loss: 1.7864 - accuracy: 0.6452\n",
      "Epoch 20/70\n",
      "1515/1515 [==============================] - 74s 49ms/step - loss: 1.6778 - accuracy: 0.6656\n",
      "Epoch 21/70\n",
      "1515/1515 [==============================] - 71s 47ms/step - loss: 1.5778 - accuracy: 0.6833\n",
      "Epoch 22/70\n",
      "1515/1515 [==============================] - 72s 47ms/step - loss: 1.4900 - accuracy: 0.7008\n",
      "Epoch 23/70\n",
      "1515/1515 [==============================] - 74s 49ms/step - loss: 1.4076 - accuracy: 0.7162\n",
      "Epoch 24/70\n",
      "1515/1515 [==============================] - 74s 49ms/step - loss: 1.3327 - accuracy: 0.7302\n",
      "Epoch 25/70\n",
      "1515/1515 [==============================] - 74s 49ms/step - loss: 1.2646 - accuracy: 0.7414\n",
      "Epoch 26/70\n",
      "1515/1515 [==============================] - 71s 47ms/step - loss: 1.2025 - accuracy: 0.7535\n",
      "Epoch 27/70\n",
      "1515/1515 [==============================] - 72s 48ms/step - loss: 1.1475 - accuracy: 0.7646\n",
      "Epoch 28/70\n",
      "1515/1515 [==============================] - 75s 49ms/step - loss: 1.0958 - accuracy: 0.7745\n",
      "Epoch 29/70\n",
      "1515/1515 [==============================] - 75s 49ms/step - loss: 1.0484 - accuracy: 0.7844\n",
      "Epoch 30/70\n",
      "1515/1515 [==============================] - 74s 49ms/step - loss: 1.0048 - accuracy: 0.7913\n",
      "Epoch 31/70\n",
      "1515/1515 [==============================] - 72s 48ms/step - loss: 0.9650 - accuracy: 0.7989\n",
      "Epoch 32/70\n",
      "1515/1515 [==============================] - 72s 47ms/step - loss: 0.9294 - accuracy: 0.8048\n",
      "Epoch 33/70\n",
      "1515/1515 [==============================] - 71s 47ms/step - loss: 0.8971 - accuracy: 0.8110\n",
      "Epoch 34/70\n",
      "1515/1515 [==============================] - 72s 47ms/step - loss: 0.8666 - accuracy: 0.8161\n",
      "Epoch 35/70\n",
      "1515/1515 [==============================] - 72s 47ms/step - loss: 0.8403 - accuracy: 0.8213\n",
      "Epoch 36/70\n",
      "1515/1515 [==============================] - 71s 47ms/step - loss: 0.8136 - accuracy: 0.8253\n",
      "Epoch 37/70\n",
      "1515/1515 [==============================] - 70s 46ms/step - loss: 0.7929 - accuracy: 0.8288\n",
      "Epoch 38/70\n",
      "1515/1515 [==============================] - 71s 47ms/step - loss: 0.7724 - accuracy: 0.8311\n",
      "Epoch 39/70\n",
      "1515/1515 [==============================] - 71s 47ms/step - loss: 0.7519 - accuracy: 0.8358\n",
      "Epoch 40/70\n",
      "1515/1515 [==============================] - 73s 48ms/step - loss: 0.7356 - accuracy: 0.8378\n",
      "Epoch 41/70\n",
      "1515/1515 [==============================] - 72s 47ms/step - loss: 0.7193 - accuracy: 0.8394\n",
      "Epoch 42/70\n",
      "1515/1515 [==============================] - 72s 47ms/step - loss: 0.7054 - accuracy: 0.8425\n",
      "Epoch 43/70\n",
      "1515/1515 [==============================] - 71s 47ms/step - loss: 0.6920 - accuracy: 0.8441\n",
      "Epoch 44/70\n",
      "1515/1515 [==============================] - 72s 48ms/step - loss: 0.6798 - accuracy: 0.8455\n",
      "Epoch 45/70\n",
      "1515/1515 [==============================] - 72s 47ms/step - loss: 0.6687 - accuracy: 0.8469\n",
      "Epoch 46/70\n",
      "1515/1515 [==============================] - 72s 48ms/step - loss: 0.6597 - accuracy: 0.8477\n",
      "Epoch 47/70\n",
      "1515/1515 [==============================] - 71s 47ms/step - loss: 0.6494 - accuracy: 0.8493\n",
      "Epoch 48/70\n",
      "1515/1515 [==============================] - 71s 47ms/step - loss: 0.6410 - accuracy: 0.8502\n",
      "Epoch 49/70\n",
      "1515/1515 [==============================] - 71s 47ms/step - loss: 0.6329 - accuracy: 0.8516\n",
      "Epoch 50/70\n",
      "1515/1515 [==============================] - 71s 47ms/step - loss: 0.6267 - accuracy: 0.8509\n",
      "Epoch 51/70\n",
      "1515/1515 [==============================] - 71s 47ms/step - loss: 0.6187 - accuracy: 0.8525\n",
      "Epoch 52/70\n",
      "1515/1515 [==============================] - 70s 46ms/step - loss: 0.6158 - accuracy: 0.8519\n",
      "Epoch 53/70\n",
      "1515/1515 [==============================] - 69s 46ms/step - loss: 0.6071 - accuracy: 0.8539\n",
      "Epoch 54/70\n",
      "1515/1515 [==============================] - 69s 45ms/step - loss: 0.6044 - accuracy: 0.8539\n",
      "Epoch 55/70\n",
      "1515/1515 [==============================] - 70s 46ms/step - loss: 0.5989 - accuracy: 0.8543\n",
      "Epoch 56/70\n",
      "1515/1515 [==============================] - 69s 46ms/step - loss: 0.5949 - accuracy: 0.8542\n",
      "Epoch 57/70\n",
      "1515/1515 [==============================] - 71s 47ms/step - loss: 0.5908 - accuracy: 0.8548\n",
      "Epoch 58/70\n",
      "1515/1515 [==============================] - 75s 49ms/step - loss: 0.5875 - accuracy: 0.8535\n",
      "Epoch 59/70\n",
      "1515/1515 [==============================] - 71s 47ms/step - loss: 0.5825 - accuracy: 0.8545\n",
      "Epoch 60/70\n",
      "1515/1515 [==============================] - 70s 46ms/step - loss: 0.5797 - accuracy: 0.8556\n",
      "Epoch 61/70\n",
      "1515/1515 [==============================] - 70s 46ms/step - loss: 0.5776 - accuracy: 0.8557\n",
      "Epoch 62/70\n",
      "1515/1515 [==============================] - 70s 46ms/step - loss: 0.5754 - accuracy: 0.8551\n",
      "Epoch 63/70\n",
      "1515/1515 [==============================] - 71s 47ms/step - loss: 0.5712 - accuracy: 0.8560\n",
      "Epoch 64/70\n",
      "1515/1515 [==============================] - 70s 46ms/step - loss: 0.5712 - accuracy: 0.8553\n",
      "Epoch 65/70\n",
      "1515/1515 [==============================] - 70s 46ms/step - loss: 0.5679 - accuracy: 0.8558\n",
      "Epoch 66/70\n",
      "1515/1515 [==============================] - 71s 47ms/step - loss: 0.5656 - accuracy: 0.8565\n",
      "Epoch 67/70\n",
      "1515/1515 [==============================] - 71s 47ms/step - loss: 0.5625 - accuracy: 0.8565\n",
      "Epoch 68/70\n",
      "1515/1515 [==============================] - 72s 48ms/step - loss: 0.5616 - accuracy: 0.8569\n",
      "Epoch 69/70\n",
      "1515/1515 [==============================] - 70s 46ms/step - loss: 0.5597 - accuracy: 0.8564\n",
      "Epoch 70/70\n",
      "1515/1515 [==============================] - 71s 47ms/step - loss: 0.5591 - accuracy: 0.8566\n"
     ]
    }
   ],
   "source": [
    "# history = model.fit(x, y, epochs=70, verbose=1)"
   ]
  },
  {
   "cell_type": "code",
   "execution_count": 12,
   "id": "3a109ae5",
   "metadata": {
    "execution": {
     "iopub.execute_input": "2024-02-29T04:47:18.656616Z",
     "iopub.status.busy": "2024-02-29T04:47:18.655870Z",
     "iopub.status.idle": "2024-02-29T04:47:18.660749Z",
     "shell.execute_reply": "2024-02-29T04:47:18.659814Z"
    },
    "papermill": {
     "duration": 0.887934,
     "end_time": "2024-02-29T04:47:18.662985",
     "exception": false,
     "start_time": "2024-02-29T04:47:17.775051",
     "status": "completed"
    },
    "tags": []
   },
   "outputs": [
    {
     "name": "stdout",
     "output_type": "stream",
     "text": [
      "<keras.src.engine.sequential.Sequential object at 0x000002C476C4FB20>\n"
     ]
    }
   ],
   "source": [
    "# print(model)"
   ]
  },
  {
   "cell_type": "code",
   "execution_count": 13,
   "id": "ab67eba3",
   "metadata": {
    "execution": {
     "iopub.execute_input": "2024-02-29T04:47:20.393528Z",
     "iopub.status.busy": "2024-02-29T04:47:20.392641Z",
     "iopub.status.idle": "2024-02-29T04:47:20.593442Z",
     "shell.execute_reply": "2024-02-29T04:47:20.592510Z"
    },
    "papermill": {
     "duration": 1.098552,
     "end_time": "2024-02-29T04:47:20.595391",
     "exception": false,
     "start_time": "2024-02-29T04:47:19.496839",
     "status": "completed"
    },
    "tags": []
   },
   "outputs": [
    {
     "data": {
      "image/png": "[encoded data removed]",
      "text/plain": [
       "<Figure size 640x480 with 1 Axes>"
      ]
     },
     "metadata": {},
     "output_type": "display_data"
    }
   ],
   "source": [
    "# import matplotlib.pyplot as plt\n",
    "\n",
    "\n",
    "# def plot_graphs(history, string):\n",
    "#     plt.plot(history.history[string])\n",
    "#     plt.xlabel(\"Epochs\")\n",
    "#     plt.ylabel(string)\n",
    "#     plt.show()\n",
    "\n",
    "# plot_graphs(history, 'accuracy')"
   ]
  },
  {
   "cell_type": "code",
   "execution_count": 14,
   "id": "123ea812",
   "metadata": {
    "execution": {
     "iopub.execute_input": "2024-02-29T04:47:22.299511Z",
     "iopub.status.busy": "2024-02-29T04:47:22.299153Z",
     "iopub.status.idle": "2024-02-29T04:47:22.468137Z",
     "shell.execute_reply": "2024-02-29T04:47:22.467250Z"
    },
    "papermill": {
     "duration": 1.037705,
     "end_time": "2024-02-29T04:47:22.470102",
     "exception": false,
     "start_time": "2024-02-29T04:47:21.432397",
     "status": "completed"
    },
    "tags": []
   },
   "outputs": [
    {
     "data": {
      "image/png": "[encoded data removed]",
      "text/plain": [
       "<Figure size 640x480 with 1 Axes>"
      ]
     },
     "metadata": {},
     "output_type": "display_data"
    }
   ],
   "source": [
    "# plot_graphs(history, 'loss')"
   ]
  },
  {
   "cell_type": "code",
   "execution_count": 13,
   "id": "102cc799",
   "metadata": {},
   "outputs": [],
   "source": [
    "model = tf.keras.models.load_model('next_word_predict.h5')"
   ]
  },
  {
   "cell_type": "code",
   "execution_count": 14,
   "id": "f9937bf9",
   "metadata": {
    "execution": {
     "iopub.execute_input": "2024-02-29T04:47:24.188795Z",
     "iopub.status.busy": "2024-02-29T04:47:24.188122Z",
     "iopub.status.idle": "2024-02-29T04:47:24.194660Z",
     "shell.execute_reply": "2024-02-29T04:47:24.193752Z"
    },
    "papermill": {
     "duration": 0.843731,
     "end_time": "2024-02-29T04:47:24.196542",
     "exception": false,
     "start_time": "2024-02-29T04:47:23.352811",
     "status": "completed"
    },
    "tags": []
   },
   "outputs": [],
   "source": [
    "dic = tokenizer.word_index\n",
    "def generate(text,no_of_words):\n",
    "    for i in range(no_of_words):\n",
    "        tokenized_text = tokenizer.texts_to_sequences([text])[0]\n",
    "        padded_seq = pad_sequences([tokenized_text],padding = \"pre\",maxlen = max_sequence_len-1)\n",
    "        index = np.argmax(model.predict(padded_seq))\n",
    "        for key,value in dic.items():\n",
    "            if index+1 == value:\n",
    "                text = text+\" \"+key\n",
    "                print(text)"
   ]
  },
  {
   "cell_type": "code",
   "execution_count": 31,
   "id": "22ffc54a",
   "metadata": {
    "execution": {
     "iopub.execute_input": "2024-02-29T04:47:25.916402Z",
     "iopub.status.busy": "2024-02-29T04:47:25.915491Z",
     "iopub.status.idle": "2024-02-29T04:47:26.714642Z",
     "shell.execute_reply": "2024-02-29T04:47:26.713639Z"
    },
    "papermill": {
     "duration": 1.688228,
     "end_time": "2024-02-29T04:47:26.716781",
     "exception": false,
     "start_time": "2024-02-29T04:47:25.028553",
     "status": "completed"
    },
    "tags": []
   },
   "outputs": [
    {
     "name": "stdout",
     "output_type": "stream",
     "text": [
      "1/1 [==============================] - 0s 18ms/step\n",
      "Apple fast\n",
      "1/1 [==============================] - 0s 16ms/step\n",
      "Apple fast in\n",
      "1/1 [==============================] - 0s 17ms/step\n",
      "Apple fast in demand\n",
      "1/1 [==============================] - 0s 18ms/step\n",
      "Apple fast in demand be\n",
      "1/1 [==============================] - 0s 16ms/step\n",
      "Apple fast in demand be be\n",
      "1/1 [==============================] - 0s 28ms/step\n",
      "Apple fast in demand be be be\n",
      "1/1 [==============================] - 0s 17ms/step\n",
      "Apple fast in demand be be be of\n",
      "1/1 [==============================] - 0s 21ms/step\n",
      "Apple fast in demand be be be of tips\n",
      "1/1 [==============================] - 0s 16ms/step\n",
      "Apple fast in demand be be be of tips in\n",
      "1/1 [==============================] - 0s 16ms/step\n",
      "Apple fast in demand be be be of tips in yourself\n"
     ]
    }
   ],
   "source": [
    "text1 = \"Apple\"\n",
    "generate(text1,10)\n"
   ]
  },
  {
   "cell_type": "code",
   "execution_count": 17,
   "id": "bac52008",
   "metadata": {
    "papermill": {
     "duration": 0.835171,
     "end_time": "2024-02-29T04:47:28.387169",
     "exception": false,
     "start_time": "2024-02-29T04:47:27.551998",
     "status": "completed"
    },
    "tags": []
   },
   "outputs": [
    {
     "name": "stderr",
     "output_type": "stream",
     "text": [
      "c:\\users\\srina\\appdata\\local\\programs\\python\\python38\\lib\\site-packages\\keras\\src\\engine\\training.py:3000: UserWarning: You are saving your model as an HDF5 file via `model.save()`. This file format is considered legacy. We recommend using instead the native Keras format, e.g. `model.save('my_model.keras')`.\n",
      "  saving_api.save_model(\n"
     ]
    }
   ],
   "source": [
    "# model.save('next_word_predict.h5')"
   ]
  },
  {
   "cell_type": "code",
   "execution_count": 18,
   "id": "96661909",
   "metadata": {},
   "outputs": [],
   "source": [
    "# # Save only the model weights\n",
    "# model.save_weights('new_word_weights.h5')\n"
   ]
  },
  {
   "cell_type": "code",
   "execution_count": null,
   "id": "53d8fc96",
   "metadata": {},
   "outputs": [],
   "source": []
  }
 ],
 "metadata": {
  "kaggle": {
   "accelerator": "gpu",
   "dataSources": [
    {
     "datasetId": 748442,
     "sourceId": 1294572,
     "sourceType": "datasetVersion"
    }
   ],
   "dockerImageVersionId": 30648,
   "isGpuEnabled": true,
   "isInternetEnabled": true,
   "language": "python",
   "sourceType": "notebook"
  },
  "kernelspec": {
   "display_name": "Python 3 (ipykernel)",
   "language": "python",
   "name": "python3"
  },
  "language_info": {
   "codemirror_mode": {
    "name": "ipython",
    "version": 3
   },
   "file_extension": ".py",
   "mimetype": "text/x-python",
   "name": "python",
   "nbconvert_exporter": "python",
   "pygments_lexer": "ipython3",
   "version": "3.8.0"
  },
  "papermill": {
   "default_parameters": {},
   "duration": 666.468778,
   "end_time": "2024-02-29T04:47:31.401264",
   "environment_variables": {},
   "exception": null,
   "input_path": "__notebook__.ipynb",
   "output_path": "__notebook__.ipynb",
   "parameters": {},
   "start_time": "2024-02-29T04:36:24.932486",
   "version": "2.5.0"
  }
 },
 "nbformat": 4,
 "nbformat_minor": 5
}
